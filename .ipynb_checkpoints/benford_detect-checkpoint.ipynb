{
 "cells": [
  {
   "cell_type": "markdown",
   "metadata": {},
   "source": [
    "# Title: Using Benford Law to Detect Potential Voting Fraud."
   ]
  },
  {
   "cell_type": "markdown",
   "metadata": {},
   "source": [
    "Hi everyone, the US election in 2020 is pretty tense. By now (Nov 12) both Joe Biden and Donald Trump seem to be claiming presidency for the next term. It is extremely hard to determine who won the election precisely, unless someone recount all the ballots, which is extremely time-consuming and money-consuming. In the following I am trying to introduce a much simpler methods to quickly check whether there's phoney elements or not. The algorithm we are trying to employ is called \"Benford's Law\" https://en.wikipedia.org/wiki/Benford%27s_law\n",
    "\n",
    "It is an informal (not rigorosly proven) law, that specifies that in many natural occuring populations (an counter-example for \"natural\" will be phone numbers or user-choosed numbers), the leading digits are likely to be small digits (like 1,2,3...). A rule of thumb is that the number 1 appear as the leading digit about 30% of the time; the number 9 appearing as the leading digit around 5% of the time. And the distribution will be approximately exhibiting a 1/f power law. Intrestingly, for my research on human electroencephalogram (EEG), the EEG signal power-frequency relations also exhibits such 1/f power law.  \n",
    "\n",
    "In the following, I am trying to illustrate this BenFord's law using several examples:"
   ]
  },
  {
   "cell_type": "markdown",
   "metadata": {},
   "source": [
    "## Example 1. Country GDP Data\n",
    "I have collected GDP data for countries from https://data.worldbank.org/indicator/NY.GDP.MKTP.KD. Let's try to see if fits into our BenFord Law. \n"
   ]
  },
  {
   "cell_type": "code",
   "execution_count": 18,
   "metadata": {},
   "outputs": [],
   "source": [
    "import pandas as pd\n",
    "import matplotlib.pyplot as plt\n",
    "import numpy as np"
   ]
  },
  {
   "cell_type": "code",
   "execution_count": 12,
   "metadata": {},
   "outputs": [],
   "source": [
    "gdp_data = pd.read_csv(\"gdp_data.csv\", encoding='cp1252')"
   ]
  },
  {
   "cell_type": "code",
   "execution_count": 44,
   "metadata": {},
   "outputs": [
    {
     "data": {
      "text/plain": [
       "(array([0.30952381, 0.21031746, 0.09126984, 0.11507937, 0.08333333,\n",
       "        0.06746032, 0.05555556, 0.03174603, 0.03571429]),\n",
       " array([ 1,  2,  3,  4,  5,  6,  7,  8,  9, 10]),\n",
       " <BarContainer object of 9 artists>)"
      ]
     },
     "execution_count": 44,
     "metadata": {},
     "output_type": "execute_result"
    },
    {
     "data": {
      "image/png": "[encoded data removed]",
      "text/plain": [
       "<Figure size 432x288 with 1 Axes>"
      ]
     },
     "metadata": {
      "needs_background": "light"
     },
     "output_type": "display_data"
    }
   ],
   "source": [
    "# Use data from 2010:\n",
    "gdp_2010 = gdp_data['2010'].dropna() # drop na\n",
    "gdp_firstdigits = []\n",
    "bins_list = np.arange(1,11,1)\n",
    "\n",
    "for i in gdp_2010:\n",
    "   #print(str(i)[0])\n",
    "    gdp_firstdigits.append(int(str(i)[0]))\n",
    "plt.hist(gdp_firstdigits,bins = bins_list,density = True)"
   ]
  },
  {
   "cell_type": "code",
   "execution_count": 32,
   "metadata": {},
   "outputs": [
    {
     "name": "stdout",
     "output_type": "stream",
     "text": [
      "0.30952380952380953\n",
      "0.03571428571428571\n"
     ]
    }
   ],
   "source": [
    "print(np.sum(np.array(gdp_firstdigits)==1)/len(gdp_firstdigits)) # Proportion of 1 as leading digit\n",
    "print(np.sum(np.array(gdp_firstdigits)==9)/len(gdp_firstdigits)) # Proportion of 9 as leading digit"
   ]
  },
  {
   "cell_type": "markdown",
   "metadata": {},
   "source": [
    "# We found that GDP data for countries exhibit this BenFord Law closely"
   ]
  },
  {
   "cell_type": "markdown",
   "metadata": {},
   "source": [
    "## Example 2: U.S County level population"
   ]
  },
  {
   "cell_type": "markdown",
   "metadata": {},
   "source": [
    "The next example will be the county-level population data for U.S in 2010. I collected it from https://www.census.gov/data/tables/time-series/demo/popest/2010s-counties-total.html#par_textimage. The dataset has population estimates for 3193 counties across U.S from 2010-2020."
   ]
  },
  {
   "cell_type": "code",
   "execution_count": 47,
   "metadata": {},
   "outputs": [],
   "source": [
    "popu_data = pd.read_csv(\"pop_data.csv\", encoding='cp1252')"
   ]
  },
  {
   "cell_type": "code",
   "execution_count": 48,
   "metadata": {},
   "outputs": [
    {
     "name": "stdout",
     "output_type": "stream",
     "text": [
      "(3193, 164)\n"
     ]
    }
   ],
   "source": [
    "print(popu_data.shape)"
   ]
  },
  {
   "cell_type": "code",
   "execution_count": 49,
   "metadata": {},
   "outputs": [
    {
     "data": {
      "text/plain": [
       "(array([0.30222361, 0.18853743, 0.11869715, 0.09771375, 0.06890072,\n",
       "        0.06796117, 0.05731287, 0.04854369, 0.05010961]),\n",
       " array([ 1,  2,  3,  4,  5,  6,  7,  8,  9, 10]),\n",
       " <BarContainer object of 9 artists>)"
      ]
     },
     "execution_count": 49,
     "metadata": {},
     "output_type": "execute_result"
    },
    {
     "data": {
      "image/png": "[encoded data removed]",
      "text/plain": [
       "<Figure size 432x288 with 1 Axes>"
      ]
     },
     "metadata": {
      "needs_background": "light"
     },
     "output_type": "display_data"
    }
   ],
   "source": [
    "pop_2010 = popu_data['ESTIMATESBASE2010'].dropna() # drop na\n",
    "pop_firstdigits = []\n",
    "bins_list = np.arange(1,11,1)\n",
    "\n",
    "for i in pop_2010:\n",
    "   #print(str(i)[0])\n",
    "    pop_firstdigits.append(int(str(i)[0]))\n",
    "plt.hist(pop_firstdigits,bins = bins_list,density = True)"
   ]
  },
  {
   "cell_type": "code",
   "execution_count": 50,
   "metadata": {},
   "outputs": [
    {
     "name": "stdout",
     "output_type": "stream",
     "text": [
      "0.30222361415596616\n",
      "0.05010961478233636\n"
     ]
    }
   ],
   "source": [
    "print(np.sum(np.array(pop_firstdigits)==1)/len(pop_firstdigits)) # Proportion of 1 as leading digit\n",
    "print(np.sum(np.array(pop_firstdigits)==9)/len(pop_firstdigits)) # Proportion of 9 as leading digit"
   ]
  },
  {
   "cell_type": "markdown",
   "metadata": {},
   "source": [
    "# Again, the County-level population exhibits BenFord's Law"
   ]
  },
  {
   "cell_type": "markdown",
   "metadata": {},
   "source": [
    "## Example 3: US. county level election result 2016"
   ]
  },
  {
   "cell_type": "markdown",
   "metadata": {},
   "source": [
    "Let's take a look at the U.S county level election result in 2016. Data contains election results for 3141 counties across U.S in 2016. Data Source: https://github.com/tonmcg/US_County_Level_Election_Results_08-20."
   ]
  },
  {
   "cell_type": "code",
   "execution_count": 65,
   "metadata": {},
   "outputs": [],
   "source": [
    "vote2016_data = pd.read_csv(\"voting_data.csv\", encoding='cp1252')"
   ]
  },
  {
   "cell_type": "code",
   "execution_count": 66,
   "metadata": {},
   "outputs": [
    {
     "name": "stdout",
     "output_type": "stream",
     "text": [
      "(3141, 11)\n"
     ]
    }
   ],
   "source": [
    "print(vote2016_data.shape)"
   ]
  },
  {
   "cell_type": "code",
   "execution_count": 67,
   "metadata": {},
   "outputs": [
    {
     "data": {
      "image/png": "[encoded data removed]",
      "text/plain": [
       "<Figure size 432x288 with 1 Axes>"
      ]
     },
     "metadata": {
      "needs_background": "light"
     },
     "output_type": "display_data"
    },
    {
     "data": {
      "image/png": "[encoded data removed]",
      "text/plain": [
       "<Figure size 432x288 with 1 Axes>"
      ]
     },
     "metadata": {
      "needs_background": "light"
     },
     "output_type": "display_data"
    }
   ],
   "source": [
    "vote2016_dem = vote2016_data['votes_dem'].dropna() # drop na\n",
    "vote2016_rep = vote2016_data['votes_gop'].dropna() # drop na\n",
    "\n",
    "dem_2016_digits = []\n",
    "bins_list = np.arange(1,11,1)\n",
    "\n",
    "for i in vote2016_dem:\n",
    "    dem_2016_digits.append(int(str(i)[0]))\n",
    "plt.hist(dem_2016_digits,bins = bins_list,density = True)\n",
    "plt.title(\"Democrat candidate\")\n",
    "plt.show()\n",
    "#========================================================\n",
    "rep_2016_digits = []\n",
    "bins_list = np.arange(1,11,1)\n",
    "\n",
    "for i in vote2016_rep:\n",
    "    rep_2016_digits.append(int(str(i)[0]))\n",
    "plt.hist(rep_2016_digits,bins = bins_list,density = True)\n",
    "plt.title(\"Republican candidate\")\n",
    "plt.show()"
   ]
  },
  {
   "cell_type": "code",
   "execution_count": 68,
   "metadata": {},
   "outputs": [
    {
     "name": "stdout",
     "output_type": "stream",
     "text": [
      "0.29703915950334286\n",
      "0.05221267112384591\n"
     ]
    }
   ],
   "source": [
    "# Democrats:\n",
    "\n",
    "print(np.sum(np.array(dem_2016_digits)==1)/len(dem_2016_digits)) # Proportion of 1 as leading digit\n",
    "print(np.sum(np.array(dem_2016_digits)==9)/len(dem_2016_digits)) # Proportion of 9 as leading digit"
   ]
  },
  {
   "cell_type": "code",
   "execution_count": 69,
   "metadata": {},
   "outputs": [
    {
     "name": "stdout",
     "output_type": "stream",
     "text": [
      "0.3046800382043935\n",
      "0.04552690226042662\n"
     ]
    }
   ],
   "source": [
    "print(np.sum(np.array(rep_2016_digits)==1)/len(rep_2016_digits)) # Proportion of 1 as leading digit\n",
    "print(np.sum(np.array(rep_2016_digits)==9)/len(rep_2016_digits)) # Proportion of 9 as leading digit"
   ]
  },
  {
   "cell_type": "markdown",
   "metadata": {},
   "source": [
    "# We see that the numbers and the distributions of the 2016 presidential election results follow closely with BenFord's Law"
   ]
  },
  {
   "cell_type": "markdown",
   "metadata": {},
   "source": [
    "## Example 4. U.S Presidential Election Results 2020 (Nov 12).\n",
    "The data is obtained from https://github.com/favstats/USElection2020-NYT-Results, which is based on New York Time election reports. It currently contains county level election results for 3159 counties across U.S"
   ]
  },
  {
   "cell_type": "code",
   "execution_count": 62,
   "metadata": {},
   "outputs": [],
   "source": [
    "vote2020_data = pd.read_csv(\"presidential2020.csv\", encoding='cp1252')"
   ]
  },
  {
   "cell_type": "code",
   "execution_count": 64,
   "metadata": {},
   "outputs": [
    {
     "name": "stdout",
     "output_type": "stream",
     "text": [
      "(3159, 106)\n"
     ]
    }
   ],
   "source": [
    "print(vote2020_data.shape)"
   ]
  },
  {
   "cell_type": "code",
   "execution_count": 72,
   "metadata": {},
   "outputs": [
    {
     "name": "stdout",
     "output_type": "stream",
     "text": [
      "0        5387\n",
      "1        4169\n",
      "2        4977\n",
      "3        4552\n",
      "4        1086\n",
      "        ...  \n",
      "3154    37842\n",
      "3155    39411\n",
      "3156    49488\n",
      "3157    33182\n",
      "3158    28352\n",
      "Length: 3159, dtype: int64\n"
     ]
    }
   ],
   "source": [
    "vote2020_dem = vote2020_data['results_bidenj'].dropna()+vote2020_data['results_absentee_bidenj'].dropna()\n",
    "print(vote2020_dem)"
   ]
  },
  {
   "cell_type": "code",
   "execution_count": 73,
   "metadata": {},
   "outputs": [
    {
     "data": {
      "image/png": "[encoded data removed]",
      "text/plain": [
       "<Figure size 432x288 with 1 Axes>"
      ]
     },
     "metadata": {
      "needs_background": "light"
     },
     "output_type": "display_data"
    },
    {
     "data": {
      "image/png": "[encoded data removed]",
      "text/plain": [
       "<Figure size 432x288 with 1 Axes>"
      ]
     },
     "metadata": {
      "needs_background": "light"
     },
     "output_type": "display_data"
    }
   ],
   "source": [
    "vote2020_dem = vote2020_data['results_bidenj'].dropna()+vote2020_data['results_absentee_bidenj'].dropna()\n",
    "vote2020_rep = vote2020_data['results_trumpd'].dropna()+vote2020_data['results_absentee_trumpd'].dropna()\n",
    "\n",
    "\n",
    "dem_2020_digits = []\n",
    "bins_list = np.arange(1,11,1)\n",
    "\n",
    "for i in vote2020_dem:\n",
    "    dem_2020_digits.append(int(str(i)[0]))\n",
    "plt.hist(dem_2020_digits,bins = bins_list,density = True)\n",
    "plt.title(\"Democrat candidate\")\n",
    "plt.show()\n",
    "#========================================================\n",
    "rep_2020_digits = []\n",
    "bins_list = np.arange(1,11,1)\n",
    "\n",
    "for i in vote2020_rep:\n",
    "    rep_2020_digits.append(int(str(i)[0]))\n",
    "plt.hist(rep_2020_digits,bins = bins_list,density = True)\n",
    "plt.title(\"Republican candidate\")\n",
    "plt.show()"
   ]
  },
  {
   "cell_type": "code",
   "execution_count": 74,
   "metadata": {},
   "outputs": [
    {
     "name": "stdout",
     "output_type": "stream",
     "text": [
      "0.2962962962962963\n",
      "0.03925292814181703\n"
     ]
    }
   ],
   "source": [
    "# Democrats:\n",
    "\n",
    "print(np.sum(np.array(dem_2020_digits)==1)/len(dem_2020_digits)) # Proportion of 1 as leading digit\n",
    "print(np.sum(np.array(dem_2020_digits)==9)/len(dem_2020_digits)) # Proportion of 9 as leading digit"
   ]
  },
  {
   "cell_type": "code",
   "execution_count": 75,
   "metadata": {},
   "outputs": [
    {
     "name": "stdout",
     "output_type": "stream",
     "text": [
      "0.31402342513453624\n",
      "0.04969927192149414\n"
     ]
    }
   ],
   "source": [
    "print(np.sum(np.array(rep_2020_digits)==1)/len(rep_2020_digits)) # Proportion of 1 as leading digit\n",
    "print(np.sum(np.array(rep_2020_digits)==9)/len(rep_2020_digits)) # Proportion of 9 as leading digit"
   ]
  },
  {
   "cell_type": "markdown",
   "metadata": {},
   "source": [
    "# We see that the results pretty much follows the BenFord Proportions and distribution! At least based on county level data gathered across U.S , we don't see significant violations of benford's law."
   ]
  }
 ],
 "metadata": {
  "kernelspec": {
   "display_name": "Python 3",
   "language": "python",
   "name": "python3"
  },
  "language_info": {
   "codemirror_mode": {
    "name": "ipython",
    "version": 3
   },
   "file_extension": ".py",
   "mimetype": "text/x-python",
   "name": "python",
   "nbconvert_exporter": "python",
   "pygments_lexer": "ipython3",
   "version": "3.7.6"
  }
 },
 "nbformat": 4,
 "nbformat_minor": 4
}
